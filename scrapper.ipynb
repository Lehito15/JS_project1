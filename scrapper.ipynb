{
 "cells": [
  {
   "cell_type": "code",
   "execution_count": 1,
   "metadata": {
    "collapsed": true
   },
   "outputs": [],
   "source": [
    "import pandas as pd\n",
    "import re\n",
    "from urllib.request import Request, urlopen\n",
    "from bs4 import BeautifulSoup"
   ]
  },
  {
   "cell_type": "code",
   "execution_count": 2,
   "outputs": [],
   "source": [
    "pages =range(1,23)"
   ],
   "metadata": {
    "collapsed": false
   }
  },
  {
   "cell_type": "code",
   "execution_count": 4,
   "outputs": [],
   "source": [
    "url_start = 'https://www.futbin.com/players?page={}&league=13&order=desc&pos_type=all&sort=Player_Rating&version=gold,gold_nr,silver,bronze'"
   ],
   "metadata": {
    "collapsed": false
   }
  },
  {
   "cell_type": "code",
   "execution_count": 5,
   "outputs": [],
   "source": [
    "def flatten_list(list_):\n",
    "    output = []\n",
    "    for sublist in list_:\n",
    "        output.extend(sublist)\n",
    "\n",
    "    return output"
   ],
   "metadata": {
    "collapsed": false
   }
  },
  {
   "cell_type": "markdown",
   "source": [],
   "metadata": {
    "collapsed": false
   }
  },
  {
   "cell_type": "code",
   "execution_count": 6,
   "outputs": [
    {
     "name": "stdout",
     "output_type": "stream",
     "text": [
      "<class 'bs4.element.ResultSet'>\n",
      "Manchester City\n",
      "Liverpool\n",
      "Liverpool\n",
      "Manchester Utd\n",
      "Spurs\n",
      "Manchester Utd\n",
      "Liverpool\n",
      "Spurs\n",
      "Manchester City\n",
      "Chelsea\n",
      "Liverpool\n",
      "Liverpool\n",
      "Manchester City\n",
      "Chelsea\n",
      "Chelsea\n",
      "Chelsea\n",
      "Liverpool\n",
      "Manchester City\n",
      "Manchester Utd\n",
      "Chelsea\n",
      "<class 'bs4.element.ResultSet'>\n",
      "Liverpool\n",
      "Manchester City\n",
      "Manchester City\n",
      "Manchester City\n",
      "Leicester City\n",
      "Chelsea\n",
      "Arsenal\n",
      "Manchester City\n",
      "Chelsea\n",
      "Chelsea\n",
      "Aston Villa\n",
      "Manchester Utd\n",
      "Leicester City\n",
      "Newcastle Utd\n",
      "Chelsea\n",
      "Chelsea\n",
      "Liverpool\n",
      "Liverpool\n",
      "Wolves\n",
      "Manchester City\n",
      "<class 'bs4.element.ResultSet'>\n",
      "Arsenal\n",
      "Spurs\n",
      "Leicester City\n",
      "Aston Villa\n",
      "Spurs\n",
      "Liverpool\n",
      "Chelsea\n",
      "Arsenal\n",
      "Chelsea\n",
      "Chelsea\n",
      "Aston Villa\n",
      "Everton\n",
      "Leicester City\n",
      "West Ham\n",
      "Spurs\n",
      "Chelsea\n",
      "Liverpool\n",
      "Liverpool\n",
      "Wolves\n",
      "Manchester Utd\n",
      "<class 'bs4.element.ResultSet'>\n",
      "Newcastle Utd\n",
      "Wolves\n",
      "Manchester Utd\n",
      "Chelsea\n",
      "Spurs\n",
      "Spurs\n",
      "Manchester City\n",
      "Spurs\n",
      "Newcastle Utd\n",
      "Manchester City\n",
      "Wolves\n",
      "Wolves\n",
      "Spurs\n",
      "Nott'm Forest\n",
      "Arsenal\n",
      "Wolves\n",
      "Manchester Utd\n",
      "Manchester Utd\n",
      "Leeds United\n",
      "Spurs\n",
      "<class 'bs4.element.ResultSet'>\n",
      "Everton\n",
      "Aston Villa\n",
      "Liverpool\n",
      "Spurs\n",
      "Nott'm Forest\n",
      "Nott'm Forest\n",
      "Manchester Utd\n",
      "Manchester City\n",
      "West Ham\n",
      "Fulham\n",
      "West Ham\n",
      "Chelsea\n",
      "West Ham\n",
      "Manchester Utd\n",
      "Newcastle Utd\n",
      "Arsenal\n",
      "Newcastle Utd\n",
      "Aston Villa\n",
      "Manchester Utd\n",
      "Leeds United\n",
      "<class 'bs4.element.ResultSet'>\n",
      "Chelsea\n",
      "Wolves\n",
      "Wolves\n",
      "Wolves\n",
      "West Ham\n",
      "Everton\n",
      "Aston Villa\n",
      "Spurs\n",
      "Manchester Utd\n",
      "Chelsea\n",
      "Everton\n",
      "Arsenal\n",
      "Manchester Utd\n",
      "Everton\n",
      "Everton\n",
      "Arsenal\n",
      "Brighton\n",
      "Brighton\n",
      "Brighton\n",
      "West Ham\n",
      "<class 'bs4.element.ResultSet'>\n",
      "Arsenal\n",
      "West Ham\n",
      "Leicester City\n",
      "Manchester Utd\n",
      "Arsenal\n",
      "West Ham\n",
      "Southampton\n",
      "Arsenal\n",
      "Wolves\n",
      "Wolves\n",
      "Liverpool\n",
      "AFC Bournemouth\n",
      "Nott'm Forest\n",
      "Leicester City\n",
      "Spurs\n",
      "Leicester City\n",
      "Newcastle Utd\n",
      "Manchester Utd\n",
      "Crystal Palace\n",
      "Spurs\n",
      "<class 'bs4.element.ResultSet'>\n",
      "Leicester City\n",
      "Brentford\n",
      "Brentford\n",
      "Southampton\n",
      "West Ham\n",
      "Nott'm Forest\n",
      "West Ham\n",
      "Aston Villa\n",
      "Fulham\n",
      "Southampton\n",
      "Everton\n",
      "Brentford\n",
      "Newcastle Utd\n",
      "Leeds United\n",
      "Leeds United\n",
      "Leeds United\n",
      "Leicester City\n",
      "Crystal Palace\n",
      "Liverpool\n",
      "Nott'm Forest\n",
      "<class 'bs4.element.ResultSet'>\n",
      "Spurs\n",
      "Brighton\n",
      "Leicester City\n",
      "West Ham\n",
      "Fulham\n",
      "Brighton\n",
      "Everton\n",
      "Aston Villa\n",
      "Leeds United\n",
      "Newcastle Utd\n",
      "Spurs\n",
      "Chelsea\n",
      "Southampton\n",
      "Chelsea\n",
      "Nott'm Forest\n",
      "Fulham\n",
      "Nott'm Forest\n",
      "Wolves\n",
      "Spurs\n",
      "Everton\n",
      "<class 'bs4.element.ResultSet'>\n",
      "Leeds United\n",
      "Newcastle Utd\n",
      "Everton\n",
      "Crystal Palace\n",
      "Southampton\n",
      "Southampton\n",
      "Brighton\n",
      "Newcastle Utd\n",
      "Brentford\n",
      "Aston Villa\n",
      "Chelsea\n",
      "Southampton\n",
      "Leicester City\n",
      "Leeds United\n",
      "Crystal Palace\n",
      "Crystal Palace\n",
      "Leeds United\n",
      "Crystal Palace\n",
      "Leeds United\n",
      "Nott'm Forest\n",
      "<class 'bs4.element.ResultSet'>\n",
      "Leeds United\n",
      "Leicester City\n",
      "Brighton\n",
      "Crystal Palace\n",
      "Brentford\n",
      "Liverpool\n",
      "Crystal Palace\n",
      "Brighton\n",
      "Everton\n",
      "Everton\n",
      "Southampton\n",
      "Aston Villa\n",
      "Everton\n",
      "Southampton\n",
      "Spurs\n",
      "Wolves\n",
      "Crystal Palace\n",
      "Everton\n",
      "Brighton\n",
      "Leicester City\n",
      "<class 'bs4.element.ResultSet'>\n",
      "Brighton\n",
      "Leeds United\n",
      "Southampton\n",
      "Newcastle Utd\n",
      "Brentford\n",
      "Fulham\n",
      "Leeds United\n",
      "Crystal Palace\n",
      "Arsenal\n",
      "Leicester City\n",
      "Everton\n",
      "AFC Bournemouth\n",
      "AFC Bournemouth\n",
      "Fulham\n",
      "Fulham\n",
      "Aston Villa\n",
      "Newcastle Utd\n",
      "Brentford\n",
      "Brentford\n",
      "Everton\n",
      "<class 'bs4.element.ResultSet'>\n",
      "AFC Bournemouth\n",
      "Everton\n",
      "Southampton\n",
      "Nott'm Forest\n",
      "Brentford\n",
      "Spurs\n",
      "Nott'm Forest\n",
      "Newcastle Utd\n",
      "Brentford\n",
      "Leeds United\n",
      "Leeds United\n",
      "Wolves\n",
      "Nott'm Forest\n",
      "Newcastle Utd\n",
      "Fulham\n",
      "Crystal Palace\n",
      "Southampton\n",
      "AFC Bournemouth\n",
      "Aston Villa\n",
      "Leicester City\n",
      "<class 'bs4.element.ResultSet'>\n",
      "Nott'm Forest\n",
      "Crystal Palace\n",
      "Everton\n",
      "Crystal Palace\n",
      "AFC Bournemouth\n",
      "Fulham\n",
      "Leeds United\n",
      "Leicester City\n",
      "Fulham\n",
      "Crystal Palace\n",
      "Manchester Utd\n",
      "Brentford\n",
      "Spurs\n",
      "Newcastle Utd\n",
      "Leicester City\n",
      "Southampton\n",
      "Southampton\n",
      "Brighton\n",
      "Manchester City\n",
      "West Ham\n",
      "<class 'bs4.element.ResultSet'>\n",
      "Leeds United\n",
      "Crystal Palace\n",
      "Brighton\n",
      "Everton\n",
      "Manchester Utd\n",
      "AFC Bournemouth\n",
      "Chelsea\n",
      "Manchester Utd\n",
      "West Ham\n",
      "Newcastle Utd\n",
      "Nott'm Forest\n",
      "Leicester City\n",
      "Brentford\n",
      "Arsenal\n",
      "AFC Bournemouth\n",
      "AFC Bournemouth\n",
      "Nott'm Forest\n",
      "Everton\n",
      "Nott'm Forest\n",
      "Nott'm Forest\n",
      "<class 'bs4.element.ResultSet'>\n",
      "Arsenal\n",
      "Brentford\n",
      "Liverpool\n",
      "Liverpool\n",
      "Manchester Utd\n",
      "Liverpool\n",
      "Southampton\n",
      "Liverpool\n",
      "Nott'm Forest\n",
      "Arsenal\n",
      "AFC Bournemouth\n",
      "Brentford\n",
      "Southampton\n",
      "Newcastle Utd\n",
      "AFC Bournemouth\n",
      "AFC Bournemouth\n",
      "Leeds United\n",
      "Everton\n",
      "Brighton\n",
      "Leicester City\n",
      "<class 'bs4.element.ResultSet'>\n",
      "Aston Villa\n",
      "AFC Bournemouth\n",
      "AFC Bournemouth\n",
      "Nott'm Forest\n",
      "Nott'm Forest\n",
      "Brentford\n",
      "Brighton\n",
      "Spurs\n",
      "Arsenal\n",
      "Southampton\n",
      "Brighton\n",
      "Southampton\n",
      "Aston Villa\n",
      "Brentford\n",
      "Chelsea\n",
      "Manchester City\n",
      "AFC Bournemouth\n",
      "Wolves\n",
      "Nott'm Forest\n",
      "Nott'm Forest\n",
      "<class 'bs4.element.ResultSet'>\n",
      "Nott'm Forest\n",
      "Fulham\n",
      "Brentford\n",
      "AFC Bournemouth\n",
      "Brentford\n",
      "Leeds United\n",
      "Manchester Utd\n",
      "Southampton\n",
      "Leeds United\n",
      "Wolves\n",
      "Nott'm Forest\n",
      "Brentford\n",
      "Leeds United\n",
      "Manchester Utd\n",
      "Manchester City\n",
      "Newcastle Utd\n",
      "Manchester City\n",
      "Newcastle Utd\n",
      "Aston Villa\n",
      "Nott'm Forest\n",
      "<class 'bs4.element.ResultSet'>\n",
      "West Ham\n",
      "Nott'm Forest\n",
      "Everton\n",
      "Newcastle Utd\n",
      "Manchester City\n",
      "Brighton\n",
      "Chelsea\n",
      "Chelsea\n",
      "Manchester City\n",
      "Nott'm Forest\n",
      "Arsenal\n",
      "Everton\n",
      "AFC Bournemouth\n",
      "Arsenal\n",
      "Liverpool\n",
      "Manchester Utd\n",
      "Wolves\n",
      "Chelsea\n",
      "West Ham\n",
      "Crystal Palace\n",
      "<class 'bs4.element.ResultSet'>\n",
      "Spurs\n",
      "Brighton\n",
      "Spurs\n",
      "Liverpool\n",
      "Arsenal\n",
      "AFC Bournemouth\n",
      "Chelsea\n",
      "Liverpool\n",
      "West Ham\n",
      "Everton\n",
      "Fulham\n",
      "Brentford\n",
      "Fulham\n",
      "Liverpool\n",
      "Brighton\n",
      "Arsenal\n",
      "Wolves\n",
      "Wolves\n",
      "Wolves\n",
      "Leicester City\n",
      "<class 'bs4.element.ResultSet'>\n",
      "Spurs\n",
      "Liverpool\n",
      "Aston Villa\n",
      "Everton\n",
      "West Ham\n",
      "Brentford\n",
      "Brighton\n",
      "Brentford\n",
      "Brighton\n",
      "Newcastle Utd\n",
      "Crystal Palace\n",
      "Leeds United\n",
      "Brentford\n",
      "Aston Villa\n",
      "Newcastle Utd\n",
      "Wolves\n",
      "Brentford\n",
      "Crystal Palace\n",
      "Leeds United\n",
      "Wolves\n",
      "<class 'bs4.element.ResultSet'>\n",
      "Southampton\n",
      "Nott'm Forest\n",
      "Chelsea\n",
      "Liverpool\n",
      "Nott'm Forest\n",
      "Wolves\n",
      "Wolves\n",
      "Aston Villa\n",
      "Wolves\n",
      "Aston Villa\n"
     ]
    }
   ],
   "source": [
    "all_players = pd.DataFrame([])\n",
    "for page in pages:\n",
    "    headers = {'User-Agent': 'Mozilla/5.0'}\n",
    "    url = url_start.format(page)\n",
    "    req = Request(url, headers=headers)\n",
    "    response = urlopen(req)\n",
    "    data = response.read()\n",
    "    soup = BeautifulSoup(data, 'html.parser')\n",
    "    players = soup.find_all('tr')\n",
    "    del players[1::2]\n",
    "    list_players_page = list()\n",
    "    print(type(players))\n",
    "    for player in list(players):\n",
    "         attributess = [td.get_text() for td in player.find_all(\"td\")]\n",
    "         attributess = [i.strip() for i in attributess]\n",
    "         attributess = flatten_list([i.split(\"\\\\\") for i in attributess])\n",
    "         attributess = [item.strip() for item in attributess if item.strip() != \"\"]\n",
    "         if player.find_all('span'):\n",
    "\n",
    "             team = player.find_all('span')[0].find_all('a')\n",
    "             match = re.search(r'data-original-title=\"([^\"]*)\"',str(team))\n",
    "             if match:\n",
    "              team = match.group(1)\n",
    "              print(team)\n",
    "              attributess.append(team)\n",
    "\n",
    "\n",
    "              dict_players = {\n",
    "                       'name': attributess[0],\n",
    "                       'overall': attributess[1],\n",
    "                  'position': re.sub(r'\\n.*', '', str(attributess[2])),\n",
    "                       'club': attributess[-1]\n",
    "                   }\n",
    "              list_players_page.append(dict_players)\n",
    "    list_players_page = pd.DataFrame(list_players_page)\n",
    "    all_players = pd.concat([all_players, list_players_page])\n",
    "\n",
    "\n",
    "\n",
    "#all_players.head()\n",
    "\n",
    "\n"
   ],
   "metadata": {
    "collapsed": false
   }
  },
  {
   "cell_type": "code",
   "execution_count": 8,
   "outputs": [
    {
     "data": {
      "text/plain": "                name overall position         club\n10      Levi Colwill      70       CB     Brighton\n11   Willy Caballero      70       GK  Southampton\n12    Cameron Archer      70       ST  Aston Villa\n13      Kevin Schade      70       RM    Brentford\n14     Nathan Baxter      70       GK      Chelsea\n..               ...     ...      ...          ...\n5   Harry Birtwistle      55      RWB       Wolves\n6   Dexter Lembikisa      55      RWB       Wolves\n7      Joshua Feeney      55       CB  Aston Villa\n8      Tyler Roberts      55       RW       Wolves\n9   Viljami Sinisalo      55       GK  Aston Villa\n\n[100 rows x 4 columns]",
      "text/html": "<div>\n<style scoped>\n    .dataframe tbody tr th:only-of-type {\n        vertical-align: middle;\n    }\n\n    .dataframe tbody tr th {\n        vertical-align: top;\n    }\n\n    .dataframe thead th {\n        text-align: right;\n    }\n</style>\n<table border=\"1\" class=\"dataframe\">\n  <thead>\n    <tr style=\"text-align: right;\">\n      <th></th>\n      <th>name</th>\n      <th>overall</th>\n      <th>position</th>\n      <th>club</th>\n    </tr>\n  </thead>\n  <tbody>\n    <tr>\n      <th>10</th>\n      <td>Levi Colwill</td>\n      <td>70</td>\n      <td>CB</td>\n      <td>Brighton</td>\n    </tr>\n    <tr>\n      <th>11</th>\n      <td>Willy Caballero</td>\n      <td>70</td>\n      <td>GK</td>\n      <td>Southampton</td>\n    </tr>\n    <tr>\n      <th>12</th>\n      <td>Cameron Archer</td>\n      <td>70</td>\n      <td>ST</td>\n      <td>Aston Villa</td>\n    </tr>\n    <tr>\n      <th>13</th>\n      <td>Kevin Schade</td>\n      <td>70</td>\n      <td>RM</td>\n      <td>Brentford</td>\n    </tr>\n    <tr>\n      <th>14</th>\n      <td>Nathan Baxter</td>\n      <td>70</td>\n      <td>GK</td>\n      <td>Chelsea</td>\n    </tr>\n    <tr>\n      <th>...</th>\n      <td>...</td>\n      <td>...</td>\n      <td>...</td>\n      <td>...</td>\n    </tr>\n    <tr>\n      <th>5</th>\n      <td>Harry Birtwistle</td>\n      <td>55</td>\n      <td>RWB</td>\n      <td>Wolves</td>\n    </tr>\n    <tr>\n      <th>6</th>\n      <td>Dexter Lembikisa</td>\n      <td>55</td>\n      <td>RWB</td>\n      <td>Wolves</td>\n    </tr>\n    <tr>\n      <th>7</th>\n      <td>Joshua Feeney</td>\n      <td>55</td>\n      <td>CB</td>\n      <td>Aston Villa</td>\n    </tr>\n    <tr>\n      <th>8</th>\n      <td>Tyler Roberts</td>\n      <td>55</td>\n      <td>RW</td>\n      <td>Wolves</td>\n    </tr>\n    <tr>\n      <th>9</th>\n      <td>Viljami Sinisalo</td>\n      <td>55</td>\n      <td>GK</td>\n      <td>Aston Villa</td>\n    </tr>\n  </tbody>\n</table>\n<p>100 rows × 4 columns</p>\n</div>"
     },
     "execution_count": 8,
     "metadata": {},
     "output_type": "execute_result"
    }
   ],
   "source": [
    "all_players.tail(100)"
   ],
   "metadata": {
    "collapsed": false
   }
  },
  {
   "cell_type": "code",
   "execution_count": 9,
   "outputs": [],
   "source": [
    "all_players = all_players.reset_index()"
   ],
   "metadata": {
    "collapsed": false
   }
  },
  {
   "cell_type": "code",
   "execution_count": 10,
   "outputs": [
    {
     "data": {
      "text/plain": "     index                       name overall position             club\n380      0               Jamie Bowden      63       CM            Spurs\n381      1         Julio César Enciso      63       RM         Brighton\n382      2             Alfie Whiteman      63       GK            Spurs\n383      3             Billy Koumetio      63       CB        Liverpool\n384      4               Miguel Azeez      63       CM          Arsenal\n385      5             Dango Ouattara      63       ST  AFC Bournemouth\n386      6                Harvey Vale      63       LW          Chelsea\n387      7                  Jake Cain      62       CM        Liverpool\n388      8             Harrison Ashby      62       RB         West Ham\n389      9              Andy Lonergan      62       GK          Everton\n390     10                Luke Harris      61      CAM           Fulham\n391     11              Paris Maghoma      61       CM        Brentford\n392     12               Sonny Hilton      61      CAM           Fulham\n393     13                  Owen Beck      61       LB        Liverpool\n394     14                Yasin Ayari      61       CM         Brighton\n395     15  Salah-Eddine Oulad M'Hand      61       CM          Arsenal\n396     16                 Hugo Bueno      60      LWB           Wolves\n397     17              Chem Campbell      60      CAM           Wolves\n398     18              Luke Matheson      60       RB           Wolves\n399     19   Thanawat Suengchitthawon      60      CAM   Leicester City\n400      0               Alfie Devine      60      CAM            Spurs\n401      1               James Norris      60       LB        Liverpool\n402      2              Tyreik Wright      60       RM      Aston Villa\n403      3              Tyler Onyango      60       CM          Everton\n404      4          Armstrong Okoflex      60       LM         West Ham\n405      5                Matthew Cox      59       GK        Brentford\n406      6              Evan Ferguson      59       ST         Brighton\n407      7               Alex Gilbert      59       LW        Brentford\n408      8                Odel Offiah      59       CB         Brighton\n409      9                Garang Kuol      59       LM    Newcastle Utd\n410     10           Killian Phillips      58       CM   Crystal Palace\n411     11              Sonny Perkins      58       ST     Leeds United\n412     12              Tristan Crama      58       CB        Brentford\n413     13             Lamare Bogarde      58       CB      Aston Villa\n414     14                      White      58       CM    Newcastle Utd\n415     15          Christian Marques      58       CB           Wolves\n416     16               Ryan Trevitt      57      CAM        Brentford\n417     17        Jack Wells-Morrison      57       CM   Crystal Palace\n418     18                Darko Gyabi      57       CM     Leeds United\n419     19             Lewis Richards      57       CB           Wolves\n420      0              Thierry Small      57      LWB      Southampton\n421      1                Dale Taylor      56       ST    Nott'm Forest\n422      2            Lucas Bergström      56       GK          Chelsea\n423      3                Max Woltman      56       ST        Liverpool\n424      4             George Shelvey      55       GK    Nott'm Forest\n425      5           Harry Birtwistle      55      RWB           Wolves\n426      6           Dexter Lembikisa      55      RWB           Wolves\n427      7              Joshua Feeney      55       CB      Aston Villa\n428      8              Tyler Roberts      55       RW           Wolves\n429      9           Viljami Sinisalo      55       GK      Aston Villa",
      "text/html": "<div>\n<style scoped>\n    .dataframe tbody tr th:only-of-type {\n        vertical-align: middle;\n    }\n\n    .dataframe tbody tr th {\n        vertical-align: top;\n    }\n\n    .dataframe thead th {\n        text-align: right;\n    }\n</style>\n<table border=\"1\" class=\"dataframe\">\n  <thead>\n    <tr style=\"text-align: right;\">\n      <th></th>\n      <th>index</th>\n      <th>name</th>\n      <th>overall</th>\n      <th>position</th>\n      <th>club</th>\n    </tr>\n  </thead>\n  <tbody>\n    <tr>\n      <th>380</th>\n      <td>0</td>\n      <td>Jamie Bowden</td>\n      <td>63</td>\n      <td>CM</td>\n      <td>Spurs</td>\n    </tr>\n    <tr>\n      <th>381</th>\n      <td>1</td>\n      <td>Julio César Enciso</td>\n      <td>63</td>\n      <td>RM</td>\n      <td>Brighton</td>\n    </tr>\n    <tr>\n      <th>382</th>\n      <td>2</td>\n      <td>Alfie Whiteman</td>\n      <td>63</td>\n      <td>GK</td>\n      <td>Spurs</td>\n    </tr>\n    <tr>\n      <th>383</th>\n      <td>3</td>\n      <td>Billy Koumetio</td>\n      <td>63</td>\n      <td>CB</td>\n      <td>Liverpool</td>\n    </tr>\n    <tr>\n      <th>384</th>\n      <td>4</td>\n      <td>Miguel Azeez</td>\n      <td>63</td>\n      <td>CM</td>\n      <td>Arsenal</td>\n    </tr>\n    <tr>\n      <th>385</th>\n      <td>5</td>\n      <td>Dango Ouattara</td>\n      <td>63</td>\n      <td>ST</td>\n      <td>AFC Bournemouth</td>\n    </tr>\n    <tr>\n      <th>386</th>\n      <td>6</td>\n      <td>Harvey Vale</td>\n      <td>63</td>\n      <td>LW</td>\n      <td>Chelsea</td>\n    </tr>\n    <tr>\n      <th>387</th>\n      <td>7</td>\n      <td>Jake Cain</td>\n      <td>62</td>\n      <td>CM</td>\n      <td>Liverpool</td>\n    </tr>\n    <tr>\n      <th>388</th>\n      <td>8</td>\n      <td>Harrison Ashby</td>\n      <td>62</td>\n      <td>RB</td>\n      <td>West Ham</td>\n    </tr>\n    <tr>\n      <th>389</th>\n      <td>9</td>\n      <td>Andy Lonergan</td>\n      <td>62</td>\n      <td>GK</td>\n      <td>Everton</td>\n    </tr>\n    <tr>\n      <th>390</th>\n      <td>10</td>\n      <td>Luke Harris</td>\n      <td>61</td>\n      <td>CAM</td>\n      <td>Fulham</td>\n    </tr>\n    <tr>\n      <th>391</th>\n      <td>11</td>\n      <td>Paris Maghoma</td>\n      <td>61</td>\n      <td>CM</td>\n      <td>Brentford</td>\n    </tr>\n    <tr>\n      <th>392</th>\n      <td>12</td>\n      <td>Sonny Hilton</td>\n      <td>61</td>\n      <td>CAM</td>\n      <td>Fulham</td>\n    </tr>\n    <tr>\n      <th>393</th>\n      <td>13</td>\n      <td>Owen Beck</td>\n      <td>61</td>\n      <td>LB</td>\n      <td>Liverpool</td>\n    </tr>\n    <tr>\n      <th>394</th>\n      <td>14</td>\n      <td>Yasin Ayari</td>\n      <td>61</td>\n      <td>CM</td>\n      <td>Brighton</td>\n    </tr>\n    <tr>\n      <th>395</th>\n      <td>15</td>\n      <td>Salah-Eddine Oulad M'Hand</td>\n      <td>61</td>\n      <td>CM</td>\n      <td>Arsenal</td>\n    </tr>\n    <tr>\n      <th>396</th>\n      <td>16</td>\n      <td>Hugo Bueno</td>\n      <td>60</td>\n      <td>LWB</td>\n      <td>Wolves</td>\n    </tr>\n    <tr>\n      <th>397</th>\n      <td>17</td>\n      <td>Chem Campbell</td>\n      <td>60</td>\n      <td>CAM</td>\n      <td>Wolves</td>\n    </tr>\n    <tr>\n      <th>398</th>\n      <td>18</td>\n      <td>Luke Matheson</td>\n      <td>60</td>\n      <td>RB</td>\n      <td>Wolves</td>\n    </tr>\n    <tr>\n      <th>399</th>\n      <td>19</td>\n      <td>Thanawat Suengchitthawon</td>\n      <td>60</td>\n      <td>CAM</td>\n      <td>Leicester City</td>\n    </tr>\n    <tr>\n      <th>400</th>\n      <td>0</td>\n      <td>Alfie Devine</td>\n      <td>60</td>\n      <td>CAM</td>\n      <td>Spurs</td>\n    </tr>\n    <tr>\n      <th>401</th>\n      <td>1</td>\n      <td>James Norris</td>\n      <td>60</td>\n      <td>LB</td>\n      <td>Liverpool</td>\n    </tr>\n    <tr>\n      <th>402</th>\n      <td>2</td>\n      <td>Tyreik Wright</td>\n      <td>60</td>\n      <td>RM</td>\n      <td>Aston Villa</td>\n    </tr>\n    <tr>\n      <th>403</th>\n      <td>3</td>\n      <td>Tyler Onyango</td>\n      <td>60</td>\n      <td>CM</td>\n      <td>Everton</td>\n    </tr>\n    <tr>\n      <th>404</th>\n      <td>4</td>\n      <td>Armstrong Okoflex</td>\n      <td>60</td>\n      <td>LM</td>\n      <td>West Ham</td>\n    </tr>\n    <tr>\n      <th>405</th>\n      <td>5</td>\n      <td>Matthew Cox</td>\n      <td>59</td>\n      <td>GK</td>\n      <td>Brentford</td>\n    </tr>\n    <tr>\n      <th>406</th>\n      <td>6</td>\n      <td>Evan Ferguson</td>\n      <td>59</td>\n      <td>ST</td>\n      <td>Brighton</td>\n    </tr>\n    <tr>\n      <th>407</th>\n      <td>7</td>\n      <td>Alex Gilbert</td>\n      <td>59</td>\n      <td>LW</td>\n      <td>Brentford</td>\n    </tr>\n    <tr>\n      <th>408</th>\n      <td>8</td>\n      <td>Odel Offiah</td>\n      <td>59</td>\n      <td>CB</td>\n      <td>Brighton</td>\n    </tr>\n    <tr>\n      <th>409</th>\n      <td>9</td>\n      <td>Garang Kuol</td>\n      <td>59</td>\n      <td>LM</td>\n      <td>Newcastle Utd</td>\n    </tr>\n    <tr>\n      <th>410</th>\n      <td>10</td>\n      <td>Killian Phillips</td>\n      <td>58</td>\n      <td>CM</td>\n      <td>Crystal Palace</td>\n    </tr>\n    <tr>\n      <th>411</th>\n      <td>11</td>\n      <td>Sonny Perkins</td>\n      <td>58</td>\n      <td>ST</td>\n      <td>Leeds United</td>\n    </tr>\n    <tr>\n      <th>412</th>\n      <td>12</td>\n      <td>Tristan Crama</td>\n      <td>58</td>\n      <td>CB</td>\n      <td>Brentford</td>\n    </tr>\n    <tr>\n      <th>413</th>\n      <td>13</td>\n      <td>Lamare Bogarde</td>\n      <td>58</td>\n      <td>CB</td>\n      <td>Aston Villa</td>\n    </tr>\n    <tr>\n      <th>414</th>\n      <td>14</td>\n      <td>White</td>\n      <td>58</td>\n      <td>CM</td>\n      <td>Newcastle Utd</td>\n    </tr>\n    <tr>\n      <th>415</th>\n      <td>15</td>\n      <td>Christian Marques</td>\n      <td>58</td>\n      <td>CB</td>\n      <td>Wolves</td>\n    </tr>\n    <tr>\n      <th>416</th>\n      <td>16</td>\n      <td>Ryan Trevitt</td>\n      <td>57</td>\n      <td>CAM</td>\n      <td>Brentford</td>\n    </tr>\n    <tr>\n      <th>417</th>\n      <td>17</td>\n      <td>Jack Wells-Morrison</td>\n      <td>57</td>\n      <td>CM</td>\n      <td>Crystal Palace</td>\n    </tr>\n    <tr>\n      <th>418</th>\n      <td>18</td>\n      <td>Darko Gyabi</td>\n      <td>57</td>\n      <td>CM</td>\n      <td>Leeds United</td>\n    </tr>\n    <tr>\n      <th>419</th>\n      <td>19</td>\n      <td>Lewis Richards</td>\n      <td>57</td>\n      <td>CB</td>\n      <td>Wolves</td>\n    </tr>\n    <tr>\n      <th>420</th>\n      <td>0</td>\n      <td>Thierry Small</td>\n      <td>57</td>\n      <td>LWB</td>\n      <td>Southampton</td>\n    </tr>\n    <tr>\n      <th>421</th>\n      <td>1</td>\n      <td>Dale Taylor</td>\n      <td>56</td>\n      <td>ST</td>\n      <td>Nott'm Forest</td>\n    </tr>\n    <tr>\n      <th>422</th>\n      <td>2</td>\n      <td>Lucas Bergström</td>\n      <td>56</td>\n      <td>GK</td>\n      <td>Chelsea</td>\n    </tr>\n    <tr>\n      <th>423</th>\n      <td>3</td>\n      <td>Max Woltman</td>\n      <td>56</td>\n      <td>ST</td>\n      <td>Liverpool</td>\n    </tr>\n    <tr>\n      <th>424</th>\n      <td>4</td>\n      <td>George Shelvey</td>\n      <td>55</td>\n      <td>GK</td>\n      <td>Nott'm Forest</td>\n    </tr>\n    <tr>\n      <th>425</th>\n      <td>5</td>\n      <td>Harry Birtwistle</td>\n      <td>55</td>\n      <td>RWB</td>\n      <td>Wolves</td>\n    </tr>\n    <tr>\n      <th>426</th>\n      <td>6</td>\n      <td>Dexter Lembikisa</td>\n      <td>55</td>\n      <td>RWB</td>\n      <td>Wolves</td>\n    </tr>\n    <tr>\n      <th>427</th>\n      <td>7</td>\n      <td>Joshua Feeney</td>\n      <td>55</td>\n      <td>CB</td>\n      <td>Aston Villa</td>\n    </tr>\n    <tr>\n      <th>428</th>\n      <td>8</td>\n      <td>Tyler Roberts</td>\n      <td>55</td>\n      <td>RW</td>\n      <td>Wolves</td>\n    </tr>\n    <tr>\n      <th>429</th>\n      <td>9</td>\n      <td>Viljami Sinisalo</td>\n      <td>55</td>\n      <td>GK</td>\n      <td>Aston Villa</td>\n    </tr>\n  </tbody>\n</table>\n</div>"
     },
     "execution_count": 10,
     "metadata": {},
     "output_type": "execute_result"
    }
   ],
   "source": [
    "all_players.tail(50)\n"
   ],
   "metadata": {
    "collapsed": false
   }
  },
  {
   "cell_type": "code",
   "execution_count": 11,
   "outputs": [],
   "source": [
    "all_players = all_players.drop(\"index\", axis=1)"
   ],
   "metadata": {
    "collapsed": false
   }
  },
  {
   "cell_type": "code",
   "execution_count": 12,
   "outputs": [
    {
     "data": {
      "text/plain": "                 name overall position             club\n0     Kevin De Bruyne      91       CM  Manchester City\n1       Mohamed Salah      90       RW        Liverpool\n2     Virgil van Dijk      90       CB        Liverpool\n3   Cristiano Ronaldo      90       ST   Manchester Utd\n4       Heung Min Son      89       LW            Spurs\n5            Casemiro      89      CDM   Manchester Utd\n6             Alisson      89       GK        Liverpool\n7          Harry Kane      89       ST            Spurs\n8             Ederson      89       GK  Manchester City\n9        N'Golo Kanté      89      CDM          Chelsea\n10   Andrew Robertson      87       LB        Liverpool\n11            Fabinho      87      CDM        Liverpool\n12    Aymeric Laporte      86       CB  Manchester City\n13      Édouard Mendy      86       GK          Chelsea\n14       Thiago Silva      86       CB          Chelsea\n15    Raheem Sterling      86       LW          Chelsea\n16             Thiago      86       CM        Liverpool\n17       Riyad Mahrez      86       RW  Manchester City\n18    Bruno Fernandes      86      CAM   Manchester Utd\n19           Jorginho      85       CM          Chelsea\n20         Diogo Jota      85       CF        Liverpool\n21         Phil Foden      85       LW  Manchester City\n22     Ilkay Gündogan      85       CM  Manchester City\n23        Kyle Walker      85       RB  Manchester City\n24        Jamie Vardy      85       ST   Leicester City\n25         Aubameyang      85       ST          Chelsea\n26           Jorginho      85       CM          Arsenal\n27      Jack Grealish      84       LW  Manchester City\n28        Kai Havertz      84      CAM          Chelsea\n29        Mason Mount      84      CAM          Chelsea",
      "text/html": "<div>\n<style scoped>\n    .dataframe tbody tr th:only-of-type {\n        vertical-align: middle;\n    }\n\n    .dataframe tbody tr th {\n        vertical-align: top;\n    }\n\n    .dataframe thead th {\n        text-align: right;\n    }\n</style>\n<table border=\"1\" class=\"dataframe\">\n  <thead>\n    <tr style=\"text-align: right;\">\n      <th></th>\n      <th>name</th>\n      <th>overall</th>\n      <th>position</th>\n      <th>club</th>\n    </tr>\n  </thead>\n  <tbody>\n    <tr>\n      <th>0</th>\n      <td>Kevin De Bruyne</td>\n      <td>91</td>\n      <td>CM</td>\n      <td>Manchester City</td>\n    </tr>\n    <tr>\n      <th>1</th>\n      <td>Mohamed Salah</td>\n      <td>90</td>\n      <td>RW</td>\n      <td>Liverpool</td>\n    </tr>\n    <tr>\n      <th>2</th>\n      <td>Virgil van Dijk</td>\n      <td>90</td>\n      <td>CB</td>\n      <td>Liverpool</td>\n    </tr>\n    <tr>\n      <th>3</th>\n      <td>Cristiano Ronaldo</td>\n      <td>90</td>\n      <td>ST</td>\n      <td>Manchester Utd</td>\n    </tr>\n    <tr>\n      <th>4</th>\n      <td>Heung Min Son</td>\n      <td>89</td>\n      <td>LW</td>\n      <td>Spurs</td>\n    </tr>\n    <tr>\n      <th>5</th>\n      <td>Casemiro</td>\n      <td>89</td>\n      <td>CDM</td>\n      <td>Manchester Utd</td>\n    </tr>\n    <tr>\n      <th>6</th>\n      <td>Alisson</td>\n      <td>89</td>\n      <td>GK</td>\n      <td>Liverpool</td>\n    </tr>\n    <tr>\n      <th>7</th>\n      <td>Harry Kane</td>\n      <td>89</td>\n      <td>ST</td>\n      <td>Spurs</td>\n    </tr>\n    <tr>\n      <th>8</th>\n      <td>Ederson</td>\n      <td>89</td>\n      <td>GK</td>\n      <td>Manchester City</td>\n    </tr>\n    <tr>\n      <th>9</th>\n      <td>N'Golo Kanté</td>\n      <td>89</td>\n      <td>CDM</td>\n      <td>Chelsea</td>\n    </tr>\n    <tr>\n      <th>10</th>\n      <td>Andrew Robertson</td>\n      <td>87</td>\n      <td>LB</td>\n      <td>Liverpool</td>\n    </tr>\n    <tr>\n      <th>11</th>\n      <td>Fabinho</td>\n      <td>87</td>\n      <td>CDM</td>\n      <td>Liverpool</td>\n    </tr>\n    <tr>\n      <th>12</th>\n      <td>Aymeric Laporte</td>\n      <td>86</td>\n      <td>CB</td>\n      <td>Manchester City</td>\n    </tr>\n    <tr>\n      <th>13</th>\n      <td>Édouard Mendy</td>\n      <td>86</td>\n      <td>GK</td>\n      <td>Chelsea</td>\n    </tr>\n    <tr>\n      <th>14</th>\n      <td>Thiago Silva</td>\n      <td>86</td>\n      <td>CB</td>\n      <td>Chelsea</td>\n    </tr>\n    <tr>\n      <th>15</th>\n      <td>Raheem Sterling</td>\n      <td>86</td>\n      <td>LW</td>\n      <td>Chelsea</td>\n    </tr>\n    <tr>\n      <th>16</th>\n      <td>Thiago</td>\n      <td>86</td>\n      <td>CM</td>\n      <td>Liverpool</td>\n    </tr>\n    <tr>\n      <th>17</th>\n      <td>Riyad Mahrez</td>\n      <td>86</td>\n      <td>RW</td>\n      <td>Manchester City</td>\n    </tr>\n    <tr>\n      <th>18</th>\n      <td>Bruno Fernandes</td>\n      <td>86</td>\n      <td>CAM</td>\n      <td>Manchester Utd</td>\n    </tr>\n    <tr>\n      <th>19</th>\n      <td>Jorginho</td>\n      <td>85</td>\n      <td>CM</td>\n      <td>Chelsea</td>\n    </tr>\n    <tr>\n      <th>20</th>\n      <td>Diogo Jota</td>\n      <td>85</td>\n      <td>CF</td>\n      <td>Liverpool</td>\n    </tr>\n    <tr>\n      <th>21</th>\n      <td>Phil Foden</td>\n      <td>85</td>\n      <td>LW</td>\n      <td>Manchester City</td>\n    </tr>\n    <tr>\n      <th>22</th>\n      <td>Ilkay Gündogan</td>\n      <td>85</td>\n      <td>CM</td>\n      <td>Manchester City</td>\n    </tr>\n    <tr>\n      <th>23</th>\n      <td>Kyle Walker</td>\n      <td>85</td>\n      <td>RB</td>\n      <td>Manchester City</td>\n    </tr>\n    <tr>\n      <th>24</th>\n      <td>Jamie Vardy</td>\n      <td>85</td>\n      <td>ST</td>\n      <td>Leicester City</td>\n    </tr>\n    <tr>\n      <th>25</th>\n      <td>Aubameyang</td>\n      <td>85</td>\n      <td>ST</td>\n      <td>Chelsea</td>\n    </tr>\n    <tr>\n      <th>26</th>\n      <td>Jorginho</td>\n      <td>85</td>\n      <td>CM</td>\n      <td>Arsenal</td>\n    </tr>\n    <tr>\n      <th>27</th>\n      <td>Jack Grealish</td>\n      <td>84</td>\n      <td>LW</td>\n      <td>Manchester City</td>\n    </tr>\n    <tr>\n      <th>28</th>\n      <td>Kai Havertz</td>\n      <td>84</td>\n      <td>CAM</td>\n      <td>Chelsea</td>\n    </tr>\n    <tr>\n      <th>29</th>\n      <td>Mason Mount</td>\n      <td>84</td>\n      <td>CAM</td>\n      <td>Chelsea</td>\n    </tr>\n  </tbody>\n</table>\n</div>"
     },
     "execution_count": 12,
     "metadata": {},
     "output_type": "execute_result"
    }
   ],
   "source": [
    "all_players.head(30)"
   ],
   "metadata": {
    "collapsed": false
   }
  },
  {
   "cell_type": "code",
   "execution_count": 13,
   "outputs": [],
   "source": [
    "all_players.to_csv('all_players1.csv')"
   ],
   "metadata": {
    "collapsed": false
   }
  },
  {
   "cell_type": "code",
   "execution_count": 2,
   "outputs": [],
   "source": [
    "players = pd.read_csv('all_players1.csv')\n",
    "players = players.sort_values(by='overall', ascending=False)"
   ],
   "metadata": {
    "collapsed": false
   }
  },
  {
   "cell_type": "code",
   "execution_count": 3,
   "outputs": [
    {
     "data": {
      "text/plain": "     Unnamed: 0                    name  overall position             club\n0             0         Kevin De Bruyne       91       CM  Manchester City\n3             3       Cristiano Ronaldo       90       ST   Manchester Utd\n1             1           Mohamed Salah       90       RW        Liverpool\n2             2         Virgil van Dijk       90       CB        Liverpool\n4             4           Heung Min Son       89       LW            Spurs\n5             5                Casemiro       89      CDM   Manchester Utd\n6             6                 Alisson       89       GK        Liverpool\n7             7              Harry Kane       89       ST            Spurs\n8             8                 Ederson       89       GK  Manchester City\n9             9            N'Golo Kanté       89      CDM          Chelsea\n438         438            Keylor Navas       88       GK    Nott'm Forest\n437         437            Joao Cancelo       88       LB  Manchester City\n436         436              Ruben Dias       88       CB  Manchester City\n435         435          Bernardo Silva       88      CAM  Manchester City\n434         434          Erling Haaland       88       ST  Manchester City\n442         442       Kalidou Koulibaly       87       CB          Chelsea\n440         440             Hugo Lloris       87       GK            Spurs\n439         439            David De Gea       87       GK   Manchester Utd\n443         443                   Rodri       87      CDM  Manchester City\n441         441  Trent Alexander-Arnold       87       RB        Liverpool",
      "text/html": "<div>\n<style scoped>\n    .dataframe tbody tr th:only-of-type {\n        vertical-align: middle;\n    }\n\n    .dataframe tbody tr th {\n        vertical-align: top;\n    }\n\n    .dataframe thead th {\n        text-align: right;\n    }\n</style>\n<table border=\"1\" class=\"dataframe\">\n  <thead>\n    <tr style=\"text-align: right;\">\n      <th></th>\n      <th>Unnamed: 0</th>\n      <th>name</th>\n      <th>overall</th>\n      <th>position</th>\n      <th>club</th>\n    </tr>\n  </thead>\n  <tbody>\n    <tr>\n      <th>0</th>\n      <td>0</td>\n      <td>Kevin De Bruyne</td>\n      <td>91</td>\n      <td>CM</td>\n      <td>Manchester City</td>\n    </tr>\n    <tr>\n      <th>3</th>\n      <td>3</td>\n      <td>Cristiano Ronaldo</td>\n      <td>90</td>\n      <td>ST</td>\n      <td>Manchester Utd</td>\n    </tr>\n    <tr>\n      <th>1</th>\n      <td>1</td>\n      <td>Mohamed Salah</td>\n      <td>90</td>\n      <td>RW</td>\n      <td>Liverpool</td>\n    </tr>\n    <tr>\n      <th>2</th>\n      <td>2</td>\n      <td>Virgil van Dijk</td>\n      <td>90</td>\n      <td>CB</td>\n      <td>Liverpool</td>\n    </tr>\n    <tr>\n      <th>4</th>\n      <td>4</td>\n      <td>Heung Min Son</td>\n      <td>89</td>\n      <td>LW</td>\n      <td>Spurs</td>\n    </tr>\n    <tr>\n      <th>5</th>\n      <td>5</td>\n      <td>Casemiro</td>\n      <td>89</td>\n      <td>CDM</td>\n      <td>Manchester Utd</td>\n    </tr>\n    <tr>\n      <th>6</th>\n      <td>6</td>\n      <td>Alisson</td>\n      <td>89</td>\n      <td>GK</td>\n      <td>Liverpool</td>\n    </tr>\n    <tr>\n      <th>7</th>\n      <td>7</td>\n      <td>Harry Kane</td>\n      <td>89</td>\n      <td>ST</td>\n      <td>Spurs</td>\n    </tr>\n    <tr>\n      <th>8</th>\n      <td>8</td>\n      <td>Ederson</td>\n      <td>89</td>\n      <td>GK</td>\n      <td>Manchester City</td>\n    </tr>\n    <tr>\n      <th>9</th>\n      <td>9</td>\n      <td>N'Golo Kanté</td>\n      <td>89</td>\n      <td>CDM</td>\n      <td>Chelsea</td>\n    </tr>\n    <tr>\n      <th>438</th>\n      <td>438</td>\n      <td>Keylor Navas</td>\n      <td>88</td>\n      <td>GK</td>\n      <td>Nott'm Forest</td>\n    </tr>\n    <tr>\n      <th>437</th>\n      <td>437</td>\n      <td>Joao Cancelo</td>\n      <td>88</td>\n      <td>LB</td>\n      <td>Manchester City</td>\n    </tr>\n    <tr>\n      <th>436</th>\n      <td>436</td>\n      <td>Ruben Dias</td>\n      <td>88</td>\n      <td>CB</td>\n      <td>Manchester City</td>\n    </tr>\n    <tr>\n      <th>435</th>\n      <td>435</td>\n      <td>Bernardo Silva</td>\n      <td>88</td>\n      <td>CAM</td>\n      <td>Manchester City</td>\n    </tr>\n    <tr>\n      <th>434</th>\n      <td>434</td>\n      <td>Erling Haaland</td>\n      <td>88</td>\n      <td>ST</td>\n      <td>Manchester City</td>\n    </tr>\n    <tr>\n      <th>442</th>\n      <td>442</td>\n      <td>Kalidou Koulibaly</td>\n      <td>87</td>\n      <td>CB</td>\n      <td>Chelsea</td>\n    </tr>\n    <tr>\n      <th>440</th>\n      <td>440</td>\n      <td>Hugo Lloris</td>\n      <td>87</td>\n      <td>GK</td>\n      <td>Spurs</td>\n    </tr>\n    <tr>\n      <th>439</th>\n      <td>439</td>\n      <td>David De Gea</td>\n      <td>87</td>\n      <td>GK</td>\n      <td>Manchester Utd</td>\n    </tr>\n    <tr>\n      <th>443</th>\n      <td>443</td>\n      <td>Rodri</td>\n      <td>87</td>\n      <td>CDM</td>\n      <td>Manchester City</td>\n    </tr>\n    <tr>\n      <th>441</th>\n      <td>441</td>\n      <td>Trent Alexander-Arnold</td>\n      <td>87</td>\n      <td>RB</td>\n      <td>Liverpool</td>\n    </tr>\n  </tbody>\n</table>\n</div>"
     },
     "execution_count": 3,
     "metadata": {},
     "output_type": "execute_result"
    }
   ],
   "source": [
    "players.head(20)"
   ],
   "metadata": {
    "collapsed": false
   }
  },
  {
   "cell_type": "code",
   "execution_count": 7,
   "outputs": [],
   "source": [
    "players = players.drop('Unnamed: 0',axis=1)"
   ],
   "metadata": {
    "collapsed": false
   }
  },
  {
   "cell_type": "code",
   "execution_count": 5,
   "outputs": [],
   "source": [
    "players.reset_index(drop=True, inplace=True)"
   ],
   "metadata": {
    "collapsed": false
   }
  },
  {
   "cell_type": "code",
   "execution_count": 9,
   "outputs": [
    {
     "data": {
      "text/plain": "                    name  overall position            club\n449                White       58       CM   Newcastle Utd\n450       Lamare Bogarde       58       CB     Aston Villa\n451     Killian Phillips       58       CM  Crystal Palace\n452        Sonny Perkins       58       ST    Leeds United\n453        Tristan Crama       58       CB       Brentford\n454    Christian Marques       58       CB          Wolves\n455  Jack Wells-Morrison       57       CM  Crystal Palace\n456         Ryan Trevitt       57      CAM       Brentford\n457          Darko Gyabi       57       CM    Leeds United\n458       Lewis Richards       57       CB          Wolves\n459        Thierry Small       57      LWB     Southampton\n460          Dale Taylor       56       ST   Nott'm Forest\n461      Lucas Bergström       56       GK         Chelsea\n462          Max Woltman       56       ST       Liverpool\n463        Joshua Feeney       55       CB     Aston Villa\n464     Viljami Sinisalo       55       GK     Aston Villa\n465       George Shelvey       55       GK   Nott'm Forest\n466     Harry Birtwistle       55      RWB          Wolves\n467     Dexter Lembikisa       55      RWB          Wolves\n468        Tyler Roberts       55       RW          Wolves",
      "text/html": "<div>\n<style scoped>\n    .dataframe tbody tr th:only-of-type {\n        vertical-align: middle;\n    }\n\n    .dataframe tbody tr th {\n        vertical-align: top;\n    }\n\n    .dataframe thead th {\n        text-align: right;\n    }\n</style>\n<table border=\"1\" class=\"dataframe\">\n  <thead>\n    <tr style=\"text-align: right;\">\n      <th></th>\n      <th>name</th>\n      <th>overall</th>\n      <th>position</th>\n      <th>club</th>\n    </tr>\n  </thead>\n  <tbody>\n    <tr>\n      <th>449</th>\n      <td>White</td>\n      <td>58</td>\n      <td>CM</td>\n      <td>Newcastle Utd</td>\n    </tr>\n    <tr>\n      <th>450</th>\n      <td>Lamare Bogarde</td>\n      <td>58</td>\n      <td>CB</td>\n      <td>Aston Villa</td>\n    </tr>\n    <tr>\n      <th>451</th>\n      <td>Killian Phillips</td>\n      <td>58</td>\n      <td>CM</td>\n      <td>Crystal Palace</td>\n    </tr>\n    <tr>\n      <th>452</th>\n      <td>Sonny Perkins</td>\n      <td>58</td>\n      <td>ST</td>\n      <td>Leeds United</td>\n    </tr>\n    <tr>\n      <th>453</th>\n      <td>Tristan Crama</td>\n      <td>58</td>\n      <td>CB</td>\n      <td>Brentford</td>\n    </tr>\n    <tr>\n      <th>454</th>\n      <td>Christian Marques</td>\n      <td>58</td>\n      <td>CB</td>\n      <td>Wolves</td>\n    </tr>\n    <tr>\n      <th>455</th>\n      <td>Jack Wells-Morrison</td>\n      <td>57</td>\n      <td>CM</td>\n      <td>Crystal Palace</td>\n    </tr>\n    <tr>\n      <th>456</th>\n      <td>Ryan Trevitt</td>\n      <td>57</td>\n      <td>CAM</td>\n      <td>Brentford</td>\n    </tr>\n    <tr>\n      <th>457</th>\n      <td>Darko Gyabi</td>\n      <td>57</td>\n      <td>CM</td>\n      <td>Leeds United</td>\n    </tr>\n    <tr>\n      <th>458</th>\n      <td>Lewis Richards</td>\n      <td>57</td>\n      <td>CB</td>\n      <td>Wolves</td>\n    </tr>\n    <tr>\n      <th>459</th>\n      <td>Thierry Small</td>\n      <td>57</td>\n      <td>LWB</td>\n      <td>Southampton</td>\n    </tr>\n    <tr>\n      <th>460</th>\n      <td>Dale Taylor</td>\n      <td>56</td>\n      <td>ST</td>\n      <td>Nott'm Forest</td>\n    </tr>\n    <tr>\n      <th>461</th>\n      <td>Lucas Bergström</td>\n      <td>56</td>\n      <td>GK</td>\n      <td>Chelsea</td>\n    </tr>\n    <tr>\n      <th>462</th>\n      <td>Max Woltman</td>\n      <td>56</td>\n      <td>ST</td>\n      <td>Liverpool</td>\n    </tr>\n    <tr>\n      <th>463</th>\n      <td>Joshua Feeney</td>\n      <td>55</td>\n      <td>CB</td>\n      <td>Aston Villa</td>\n    </tr>\n    <tr>\n      <th>464</th>\n      <td>Viljami Sinisalo</td>\n      <td>55</td>\n      <td>GK</td>\n      <td>Aston Villa</td>\n    </tr>\n    <tr>\n      <th>465</th>\n      <td>George Shelvey</td>\n      <td>55</td>\n      <td>GK</td>\n      <td>Nott'm Forest</td>\n    </tr>\n    <tr>\n      <th>466</th>\n      <td>Harry Birtwistle</td>\n      <td>55</td>\n      <td>RWB</td>\n      <td>Wolves</td>\n    </tr>\n    <tr>\n      <th>467</th>\n      <td>Dexter Lembikisa</td>\n      <td>55</td>\n      <td>RWB</td>\n      <td>Wolves</td>\n    </tr>\n    <tr>\n      <th>468</th>\n      <td>Tyler Roberts</td>\n      <td>55</td>\n      <td>RW</td>\n      <td>Wolves</td>\n    </tr>\n  </tbody>\n</table>\n</div>"
     },
     "execution_count": 9,
     "metadata": {},
     "output_type": "execute_result"
    }
   ],
   "source": [
    "players.tail(20)"
   ],
   "metadata": {
    "collapsed": false
   }
  },
  {
   "cell_type": "code",
   "execution_count": 10,
   "outputs": [],
   "source": [
    "players.to_csv('all_players.csv')"
   ],
   "metadata": {
    "collapsed": false
   }
  },
  {
   "cell_type": "code",
   "execution_count": null,
   "outputs": [],
   "source": [],
   "metadata": {
    "collapsed": false
   }
  }
 ],
 "metadata": {
  "kernelspec": {
   "display_name": "Python 3",
   "language": "python",
   "name": "python3"
  },
  "language_info": {
   "codemirror_mode": {
    "name": "ipython",
    "version": 2
   },
   "file_extension": ".py",
   "mimetype": "text/x-python",
   "name": "python",
   "nbconvert_exporter": "python",
   "pygments_lexer": "ipython2",
   "version": "2.7.6"
  }
 },
 "nbformat": 4,
 "nbformat_minor": 0
}
